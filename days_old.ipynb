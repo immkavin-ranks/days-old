{
 "cells": [
  {
   "cell_type": "code",
   "execution_count": 1,
   "id": "c8ff207a-2bef-43c0-bfa8-0e44e98ed93c",
   "metadata": {},
   "outputs": [],
   "source": [
    "days_of_months = [31, 28, 31, 30, 31, 30, 31, 31, 30, 31, 30, 31]"
   ]
  },
  {
   "cell_type": "code",
   "execution_count": 2,
   "id": "4a085dc7-09bb-44f6-aa4f-cc98ddf1f502",
   "metadata": {},
   "outputs": [],
   "source": [
    "def is_leap_year(year):\n",
    "    if year % 4 == 0:\n",
    "        if year % 100 == 0:\n",
    "            if year % 400 == 0:\n",
    "                return True\n",
    "            return False\n",
    "        return True\n",
    "    return False"
   ]
  },
  {
   "cell_type": "code",
   "execution_count": 3,
   "id": "e7f20e1e-48fe-4464-b2cc-db21281dfd02",
   "metadata": {},
   "outputs": [],
   "source": [
    "def leap_days_change(year):\n",
    "    if is_leap_year(year):\n",
    "        days_of_months[1] = 29\n",
    "    else:\n",
    "        days_of_months[1] = 28"
   ]
  },
  {
   "cell_type": "code",
   "execution_count": 4,
   "id": "183d8820-b0a9-4a70-9614-7f8c9e05b598",
   "metadata": {},
   "outputs": [],
   "source": [
    "def days_between_dates(y1, m1, d1, y2, m2, d2):\n",
    "    days = 0\n",
    "    leap_days_change(y1)\n",
    "    days += days_of_months[m1 - 1] - d1\n",
    "    days += sum(days_of_months[m1:])\n",
    "    for year in range(y1 + 1, y2):\n",
    "        leap_days_change(year)\n",
    "        days += sum(days_of_months)\n",
    "    leap_days_change(y2)\n",
    "    days += sum(days_of_months[0:m2 - 1])\n",
    "    days += d2    \n",
    "    return days"
   ]
  },
  {
   "cell_type": "code",
   "execution_count": 11,
   "id": "a422f568-89ab-4274-a979-3dd275e1bb2b",
   "metadata": {},
   "outputs": [
    {
     "name": "stdin",
     "output_type": "stream",
     "text": [
      "Birth date:  2002/06/26\n",
      "Current date:  2023/10/30\n"
     ]
    },
    {
     "name": "stdout",
     "output_type": "stream",
     "text": [
      "You're 7796 days old!\n"
     ]
    }
   ],
   "source": [
    "birth_date = [int(i) for i in tuple(input('Birth date: ').split('/'))]\n",
    "current_date = [int(i) for i in tuple(input('Current date: ').split('/'))]\n",
    "age = days_between_dates(*birth_date, *current_date)\n",
    "print(f\"You're {age} days old!\")"
   ]
  }
 ],
 "metadata": {
  "kernelspec": {
   "display_name": "Python 3 (ipykernel)",
   "language": "python",
   "name": "python3"
  },
  "language_info": {
   "codemirror_mode": {
    "name": "ipython",
    "version": 3
   },
   "file_extension": ".py",
   "mimetype": "text/x-python",
   "name": "python",
   "nbconvert_exporter": "python",
   "pygments_lexer": "ipython3",
   "version": "3.10.12"
  }
 },
 "nbformat": 4,
 "nbformat_minor": 5
}
