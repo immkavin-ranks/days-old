{
 "cells": [
  {
   "cell_type": "markdown",
   "id": "89c3c33e-981a-4688-9a3a-5ac9ac3de86f",
   "metadata": {
    "jp-MarkdownHeadingCollapsed": true
   },
   "source": [
    "# Years Old Problem - Days Between Dates"
   ]
  },
  {
   "cell_type": "markdown",
   "id": "8445b0a9-eee4-4b34-8f95-24496cc281de",
   "metadata": {},
   "source": [
    "## To determine whether a year is a leap year, follow these steps:\n",
    "\n",
    "1. If the year is evenly divisible by 4, go to step 2. Otherwise, go to step 5.\n",
    "2. If the year is evenly divisible by 100, go to step 3. Otherwise, go to step 4.\n",
    "3. If the year is evenly divisible by 400, go to step 4. Otherwise, go to step 5.\n",
    "4. The year is a leap year (it has 366 days).\n",
    "5. The year is not a leap year (it has 365 days).\n"
   ]
  },
  {
   "cell_type": "code",
   "execution_count": 1,
   "id": "f22d29bf-22eb-4a74-8e27-383d9326737f",
   "metadata": {},
   "outputs": [],
   "source": [
    "def is_leap_year(year):\n",
    "    if year % 4 == 0:\n",
    "        if year % 100 == 0:\n",
    "            if year % 400 == 0:\n",
    "                return 1\n",
    "            return 0\n",
    "        return 1\n",
    "    return 0"
   ]
  },
  {
   "cell_type": "markdown",
   "id": "e304d0c9-48af-4802-bad0-50b1f2e979aa",
   "metadata": {},
   "source": [
    "## To determine how many days in a month"
   ]
  },
  {
   "cell_type": "code",
   "execution_count": 2,
   "id": "f5afc2c4-ec4d-45e5-8ec0-296a1ebbf9cb",
   "metadata": {},
   "outputs": [],
   "source": [
    "def days_in_month(year, month):\n",
    "    longer_months = [1, 3, 5, 7, 8, 10, 12]\n",
    "    if month in longer_months:\n",
    "        return 31\n",
    "    if month == 2:\n",
    "        return 28 + is_leap_year(year)\n",
    "    return 30    "
   ]
  },
  {
   "cell_type": "markdown",
   "id": "4d49e889-e612-4fc6-917e-e90fcb4acf77",
   "metadata": {},
   "source": [
    "## To determine the next date"
   ]
  },
  {
   "cell_type": "code",
   "execution_count": 3,
   "id": "a4121f4e-d95c-4a3a-8d60-5def41c47ed2",
   "metadata": {},
   "outputs": [],
   "source": [
    "def next_date(year, month, day):\n",
    "    if day < days_in_month(year, month):\n",
    "        return year, month, day + 1\n",
    "    if month < 12:\n",
    "        return year, month + 1, 1\n",
    "    return (year + 1, 1, 1)"
   ]
  },
  {
   "cell_type": "markdown",
   "id": "5e49dd27-1018-4e6e-93bd-977dadc16248",
   "metadata": {},
   "source": [
    "## To determine whether the birth date is before the current date"
   ]
  },
  {
   "cell_type": "code",
   "execution_count": 4,
   "id": "e8cb2ba6-68cd-4845-a09f-3824996f304f",
   "metadata": {},
   "outputs": [],
   "source": [
    "def date_is_before(year1, month1, day1, year2, month2, day2):\n",
    "    if year1 < year2:\n",
    "        return True\n",
    "    if year1 == year2:\n",
    "        if month1 < month2:\n",
    "            return True\n",
    "        if month1 == month2:\n",
    "            return day1 < day2\n",
    "    return False"
   ]
  },
  {
   "cell_type": "markdown",
   "id": "97f45a7e-53ad-4fa1-aeab-7be51f9279a0",
   "metadata": {},
   "source": [
    "## To determine the number of days between dates"
   ]
  },
  {
   "cell_type": "code",
   "execution_count": 5,
   "id": "9ff293ea-021c-43b2-8b16-58832b8a4526",
   "metadata": {},
   "outputs": [],
   "source": [
    "def days_between_dates(year1, month1, day1, year2, month2, day2):\n",
    "    assert not date_is_before(year2, month2, day2, year1, month1, day1)\n",
    "    days = 0\n",
    "    while date_is_before(year1, month1, day1, year2, month2, day2):\n",
    "        year1, month1, day1 = next_date(year1, month1, day1)\n",
    "        days += 1\n",
    "    return days"
   ]
  },
  {
   "cell_type": "markdown",
   "id": "8c199846-7a72-4ed3-aac8-86e97b149904",
   "metadata": {
    "jp-MarkdownHeadingCollapsed": true
   },
   "source": [
    "# Test"
   ]
  },
  {
   "cell_type": "code",
   "execution_count": 6,
   "id": "5b6801d3-fa5f-42fa-9990-6fad0dff5edc",
   "metadata": {},
   "outputs": [],
   "source": [
    "def test_is_leap_year():\n",
    "    assert is_leap_year(2000) == True\n",
    "    assert is_leap_year(2001) == False\n",
    "    assert is_leap_year(2004) == True\n",
    "    assert is_leap_year(2008) == True\n",
    "    assert is_leap_year(2100) == False\n",
    "    print('Tests passed.')"
   ]
  },
  {
   "cell_type": "code",
   "execution_count": 7,
   "id": "2f1c57a5-372c-45ef-b72b-b5cf5fa4bce8",
   "metadata": {},
   "outputs": [],
   "source": [
    "def test_days_in_month():\n",
    "    assert days_in_month(2001,1) == 31\n",
    "    assert days_in_month(2001,2) == 28\n",
    "    assert days_in_month(2008,2) == 29\n",
    "    assert days_in_month(2001,3) == 31\n",
    "    assert days_in_month(2001,4) == 30\n",
    "    assert days_in_month(2001,5) == 31\n",
    "    assert days_in_month(2001,6) == 30\n",
    "    assert days_in_month(2001,7) == 31\n",
    "    assert days_in_month(2001,8) == 31\n",
    "    assert days_in_month(2001,9) == 30\n",
    "    assert days_in_month(2001,10) == 31\n",
    "    assert days_in_month(2001,11) == 30\n",
    "    assert days_in_month(2001,12) == 31\n",
    "    print('Tests passed.')"
   ]
  },
  {
   "cell_type": "code",
   "execution_count": 8,
   "id": "64f2e8c0-a63b-4688-8052-79f3f1de3c26",
   "metadata": {},
   "outputs": [],
   "source": [
    "def test_next_date():\n",
    "    assert next_date(2023, 1, 1) == (2023, 1, 2)\n",
    "    assert next_date(2023, 1, 2) == (2023, 1, 3)\n",
    "    assert next_date(2023, 1, 30) == (2023, 1, 31)\n",
    "    assert next_date(2023, 1, 31) == (2023, 2, 1)\n",
    "    assert next_date(2023, 12, 31) == (2024, 1, 1)\n",
    "    assert next_date(2013, 2, 28) == (2013, 3, 1)\n",
    "    print('Tests passed.')"
   ]
  },
  {
   "cell_type": "code",
   "execution_count": 14,
   "id": "c7a00371-2bac-42a2-91d6-2106a2614544",
   "metadata": {},
   "outputs": [],
   "source": [
    "def test_date_is_before():\n",
    "    assert date_is_before(2002, 6, 26, 2023, 11, 6)\n",
    "    assert not date_is_before(2023, 11, 6, 2002, 6, 26)\n",
    "    assert not date_is_before(2013, 1, 1, 2013, 1, 1)\n",
    "    print('Tests passed.')"
   ]
  },
  {
   "cell_type": "code",
   "execution_count": 10,
   "id": "e8b51f4a-9560-4d04-81b2-30d52bbcb0d5",
   "metadata": {},
   "outputs": [],
   "source": [
    "def test_days_between_dates():\n",
    "    assert days_between_dates(2013, 1, 24, 2013, 6, 29) == 156\n",
    "    assert days_between_dates(2013, 1, 1, 2013, 1, 1) == 0\n",
    "    assert days_between_dates(2013, 1, 1, 2013, 1, 2) == 1\n",
    "    assert days_between_dates(2012, 1, 1, 2013, 1, 1) == 366\n",
    "    assert days_between_dates(2013, 1, 1, 2014, 1, 1) == 365"
   ]
  },
  {
   "cell_type": "code",
   "execution_count": 11,
   "id": "9b1d80cf-6b02-4dd7-9d3e-33f39da0f0fd",
   "metadata": {},
   "outputs": [],
   "source": [
    "def test():\n",
    "    test_cases = [((2012,1,1,2012,2,28), 58), \n",
    "                  ((2012,1,1,2012,3,1), 60),\n",
    "                  ((2011,6,30,2012,6,30), 366),\n",
    "                  ((2011,1,1,2012,8,8), 585 ),\n",
    "                  ((1900,1,1,1999,12,31), 36523)]\n",
    "    \n",
    "    for (args, answer) in test_cases:\n",
    "        result = days_between_dates(*args)\n",
    "        if result != answer:\n",
    "            print(\"Test with data:\", args, \"failed\")\n",
    "        else:\n",
    "            print(\"Test case passed!\")"
   ]
  },
  {
   "cell_type": "code",
   "execution_count": 12,
   "id": "fd8eac23-7163-43f0-99f5-92a4622984f9",
   "metadata": {},
   "outputs": [],
   "source": [
    "def test1():\n",
    "    test_date_is_before()\n",
    "    test_days_between_dates()\n",
    "    test_days_in_month()\n",
    "    test_is_leap_year()\n",
    "    test_next_date()\n",
    "    test()"
   ]
  },
  {
   "cell_type": "markdown",
   "id": "2401f35f-966e-405a-8923-a5c718706796",
   "metadata": {
    "jp-MarkdownHeadingCollapsed": true
   },
   "source": [
    "# Main"
   ]
  },
  {
   "cell_type": "code",
   "execution_count": 17,
   "id": "b642b62c-cb3c-435d-aa07-1e001fd52b2b",
   "metadata": {},
   "outputs": [
    {
     "name": "stdin",
     "output_type": "stream",
     "text": [
      "Birth date:  2002/06/26\n",
      "Current date:  2023/11/06\n"
     ]
    },
    {
     "name": "stdout",
     "output_type": "stream",
     "text": [
      "You're 7803 days old!\n"
     ]
    }
   ],
   "source": [
    "if __name__ == \"__main__\":\n",
    "    birth_date = [int(i) for i in tuple(input('Birth date: ').split('/'))]\n",
    "    current_date = [int(i) for i in tuple(input('Current date: ').split('/'))]\n",
    "    age = days_between_dates(*birth_date, *current_date)\n",
    "    print(f\"You're {age} days old!\")"
   ]
  }
 ],
 "metadata": {
  "kernelspec": {
   "display_name": "Python 3 (ipykernel)",
   "language": "python",
   "name": "python3"
  },
  "language_info": {
   "codemirror_mode": {
    "name": "ipython",
    "version": 3
   },
   "file_extension": ".py",
   "mimetype": "text/x-python",
   "name": "python",
   "nbconvert_exporter": "python",
   "pygments_lexer": "ipython3",
   "version": "3.10.12"
  }
 },
 "nbformat": 4,
 "nbformat_minor": 5
}
